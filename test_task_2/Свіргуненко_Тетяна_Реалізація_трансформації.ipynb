{
 "cells": [
  {
   "cell_type": "code",
   "execution_count": 1,
   "id": "b17f03eb",
   "metadata": {},
   "outputs": [],
   "source": [
    "import pandas as pd \n",
    "import os"
   ]
  },
  {
   "cell_type": "code",
   "execution_count": 2,
   "id": "2b12ffdc",
   "metadata": {},
   "outputs": [],
   "source": [
    "cur_dir = os.getcwd()"
   ]
  },
  {
   "cell_type": "code",
   "execution_count": 3,
   "id": "f709ea1b",
   "metadata": {},
   "outputs": [],
   "source": [
    "data_df = pd.read_csv(rf'{cur_dir}\\data.csv')\n",
    "columns = data_df.columns.tolist()\n",
    "\n",
    "data_df = pd.melt(data_df,\n",
    "                  id_vars = columns[:5],\n",
    "                  var_name = 'TIME_PERIOD', \n",
    "                  value_name = 'OBS_VALUE')"
   ]
  },
  {
   "cell_type": "code",
   "execution_count": 4,
   "id": "9f0d0dfe",
   "metadata": {},
   "outputs": [
    {
     "name": "stdout",
     "output_type": "stream",
     "text": [
      "\n",
      "1. Додано 2 нових колонки: TIME_PERIOD та OBS_VALUE\n",
      "\n",
      "  FREQ.id  EDRPOU.id     WASTE.id  HAZARD.id MATERIAL.id TIME_PERIOD  \\\n",
      "0       A      32106  2112_1_1_04        104        07_6        2020   \n",
      "1       A      32106  2112_2_9_01        104        07_2        2020   \n",
      "2       A      32106  2210_3_1_05        104        07_2        2020   \n",
      "3       A      32106  2220_1_3_02        104          08        2020   \n",
      "4       A      32106  2416_1_1_02        104        07_2        2020   \n",
      "\n",
      "   OBS_VALUE  \n",
      "0        NaN  \n",
      "1        NaN  \n",
      "2        NaN  \n",
      "3        NaN  \n",
      "4        NaN  \n",
      "\n"
     ]
    }
   ],
   "source": [
    "print(f'\\n1. Додано 2 нових колонки: TIME_PERIOD та OBS_VALUE\\n\\n{data_df.head()}\\n')"
   ]
  },
  {
   "cell_type": "code",
   "execution_count": 5,
   "id": "da8187f0",
   "metadata": {},
   "outputs": [
    {
     "name": "stdout",
     "output_type": "stream",
     "text": [
      "2. Рівень заповненості звітності в 2021 році в порівнянні з 2020 роком виріс на 636.52%\n"
     ]
    }
   ],
   "source": [
    "count_2021 = data_df.query(\"TIME_PERIOD == '2021'\")['OBS_VALUE'].notna().sum()\n",
    "count_2020 = data_df.query(\"TIME_PERIOD == '2020'\")['OBS_VALUE'].notna().sum()\n",
    " \n",
    "cng = round((count_2021 / count_2020) * 100, 2)\n",
    "\n",
    "if cng > 100:\n",
    "    print(f\"2. Рівень заповненості звітності в 2021 році в порівнянні з 2020 роком виріс на {cng}%\")\n",
    "elif cng == 100:\n",
    "    print(f\"2. Рівень заповненості звітності в 2021 році в порівнянні з 2020 роком не змінився\")\n",
    "elif cng < 100:\n",
    "    print(f\"2. Рівень заповненості звітності в 2021 році в порівнянні з 2020 роком зменшився, і становить {cng}%\")"
   ]
  },
  {
   "cell_type": "code",
   "execution_count": 6,
   "id": "22afa653",
   "metadata": {},
   "outputs": [
    {
     "name": "stdout",
     "output_type": "stream",
     "text": [
      "\n",
      "3. Додано атрибути КВЕД та КАТОТТГ\n",
      "\n",
      "  FREQ.id  EDRPOU.id     WASTE.id  HAZARD.id MATERIAL.id TIME_PERIOD  \\\n",
      "0       A      32106  2112_1_1_04        104        07_6        2020   \n",
      "1       A      32106  2112_2_9_01        104        07_2        2020   \n",
      "2       A      32106  2210_3_1_05        104        07_2        2020   \n",
      "3       A      32106  2220_1_3_02        104          08        2020   \n",
      "4       A      32106  2416_1_1_02        104        07_2        2020   \n",
      "\n",
      "   OBS_VALUE              KATOTTG   KVED  \n",
      "0        NaN  UA80000000000624772  64_11  \n",
      "1        NaN  UA80000000000624772  64_11  \n",
      "2        NaN  UA80000000000624772  64_11  \n",
      "3        NaN  UA80000000000624772  64_11  \n",
      "4        NaN  UA80000000000624772  64_11  \n",
      "\n"
     ]
    }
   ],
   "source": [
    "edrpou_df = pd.read_csv(rf'{cur_dir}\\edrpou.csv')\n",
    "\n",
    "merged_df = data_df.merge(edrpou_df, how='left', left_on='EDRPOU.id', right_on='EDRPOU').drop(columns='EDRPOU')\n",
    "\n",
    "print(f'\\n3. Додано атрибути КВЕД та КАТОТТГ\\n\\n{merged_df.head()}\\n')"
   ]
  },
  {
   "cell_type": "code",
   "execution_count": 7,
   "id": "5b1bdea7",
   "metadata": {},
   "outputs": [
    {
     "name": "stdout",
     "output_type": "stream",
     "text": [
      "\n",
      "4. Розраховано об'єм утворених відходів для кожного класу небезпеки, матеріалу відходу, виду відходу, року звітності на рівні області \n",
      "\n",
      "   HAZARD.id MATERIAL.id     WASTE.id TIME_PERIOD OBL.id  OBS_VALUE\n",
      "0        101        01_1  2820_2_9_01        2020     63        0.0\n",
      "1        101        01_1  2820_2_9_01        2020     73        0.0\n",
      "2        101        01_1  2820_2_9_01        2021     63        2.3\n",
      "3        101        01_1  2820_2_9_01        2021     73        0.0\n",
      "4        101        01_1  3210_3_1_01        2020     46        0.0\n",
      "\n"
     ]
    }
   ],
   "source": [
    "merged_df['OBL.id'] = merged_df['KATOTTG'].str[2:4]\n",
    "\n",
    "grouped_df = merged_df.groupby(['HAZARD.id', 'MATERIAL.id', 'WASTE.id', 'TIME_PERIOD', 'OBL.id'])['OBS_VALUE'].sum().reset_index(name = 'OBS_VALUE')\n",
    "\n",
    "print(f\"\\n4. Розраховано об'єм утворених відходів для кожного класу небезпеки, матеріалу відходу, виду відходу, року звітності на рівні області \\n\\n{grouped_df.head()}\\n\")"
   ]
  },
  {
   "cell_type": "code",
   "execution_count": 8,
   "id": "de529099",
   "metadata": {},
   "outputs": [
    {
     "name": "stdout",
     "output_type": "stream",
     "text": [
      "\n",
      "5. Розраховано об'єм утворених відходів для кожного класу небезпеки, виду економічної діяльності, року звітності на рівні області \n",
      "\n",
      "   HAZARD.id   KVED TIME_PERIOD OBL.id  OBS_VALUE\n",
      "0        101  01_11        2020     05      0.259\n",
      "1        101  01_11        2020     07      0.000\n",
      "2        101  01_11        2020     12      0.377\n",
      "3        101  01_11        2020     14      0.000\n",
      "4        101  01_11        2020     18     13.557\n",
      "\n"
     ]
    }
   ],
   "source": [
    "grouped_df = merged_df.groupby(['HAZARD.id', 'KVED', 'TIME_PERIOD', 'OBL.id'])['OBS_VALUE'].sum().reset_index(name = 'OBS_VALUE')\n",
    "\n",
    "print(f\"\\n5. Розраховано об'єм утворених відходів для кожного класу небезпеки, виду економічної діяльності, року звітності на рівні області \\n\\n{grouped_df.head()}\\n\")"
   ]
  },
  {
   "cell_type": "code",
   "execution_count": 10,
   "id": "2da10bd3",
   "metadata": {},
   "outputs": [
    {
     "name": "stdout",
     "output_type": "stream",
     "text": [
      "\n",
      "6. Розраховано об'єм утворених відходів для кожного року звітності на рівні області \n",
      "\n",
      "  TIME_PERIOD OBL.id      OBS_VALUE\n",
      "0        2020     05     142,557.27\n",
      "1        2020     07     183,769.54\n",
      "2        2020     12  92,334,330.97\n",
      "3        2020     14     249,237.80\n",
      "4        2020     18      72,706.26\n",
      "\n",
      "В регіоні 12 утворилаcь найбільша кількість відходів: 64.18 %\n"
     ]
    }
   ],
   "source": [
    "grouped_df = merged_df.groupby(['TIME_PERIOD', 'OBL.id'])['OBS_VALUE'].sum().reset_index(name = 'OBS_VALUE')\n",
    "\n",
    "grouped_df['OBS_VALUE'] = grouped_df['OBS_VALUE'].map(lambda x: f'{x:,.2f}')\n",
    "\n",
    "print(f\"\\n6. Розраховано об'єм утворених відходів для кожного року звітності на рівні області \\n\\n{grouped_df.head()}\\n\")\n",
    "\n",
    "grouped_df = merged_df.groupby('OBL.id')['OBS_VALUE'].sum().reset_index(name = 'OBS_VALUE')\n",
    "\n",
    "grouped_df['Percentage'] = (grouped_df['OBS_VALUE'] / grouped_df['OBS_VALUE'].sum()) * 100\n",
    "\n",
    "print(f\"В регіоні {grouped_df.loc[grouped_df['Percentage'].idxmax(), 'OBL.id']} утворилаcь найбільша кількість відходів: {round(grouped_df['Percentage'].max(), 2)} %\")"
   ]
  },
  {
   "cell_type": "code",
   "execution_count": 11,
   "id": "7690fa38",
   "metadata": {},
   "outputs": [
    {
     "name": "stdout",
     "output_type": "stream",
     "text": [
      "\n",
      "7. Додано атрибути name, parent  \n",
      "\n",
      "  FREQ.id  EDRPOU.id     WASTE.id HAZARD.id MATERIAL.id TIME_PERIOD  \\\n",
      "0       A      32106  2112_1_1_04      0104        07_6        2020   \n",
      "1       A      32106  2112_2_9_01      0104        07_2        2020   \n",
      "2       A      32106  2210_3_1_05      0104        07_2        2020   \n",
      "3       A      32106  2220_1_3_02      0104          08        2020   \n",
      "4       A      32106  2416_1_1_02      0104        07_2        2020   \n",
      "\n",
      "   OBS_VALUE              KATOTTG   KVED OBL.id  \\\n",
      "0        NaN  UA80000000000624772  64_11     80   \n",
      "1        NaN  UA80000000000624772  64_11     80   \n",
      "2        NaN  UA80000000000624772  64_11     80   \n",
      "3        NaN  UA80000000000624772  64_11     80   \n",
      "4        NaN  UA80000000000624772  64_11     80   \n",
      "\n",
      "                               name parent  \n",
      "0  IV клас - малонебезпечні відходи   0124  \n",
      "1  IV клас - малонебезпечні відходи   0124  \n",
      "2  IV клас - малонебезпечні відходи   0124  \n",
      "3  IV клас - малонебезпечні відходи   0124  \n",
      "4  IV клас - малонебезпечні відходи   0124  \n",
      "\n"
     ]
    }
   ],
   "source": [
    "class_df = pd.read_json(rf'{cur_dir}\\SSSU_CL_WASTE_HAZARD_CLASS(2.0.1).json')\n",
    "class_df = pd.json_normalize(class_df['codes'], sep='_')\n",
    "\n",
    "merged_df['HAZARD.id'] = merged_df['HAZARD.id'].astype(str).str.zfill(4)\n",
    "\n",
    "merged_df = merged_df.merge(class_df, how = 'left', left_on = 'HAZARD.id', right_on = 'id').drop(columns=['id', 'annotations', 'names_en'])\n",
    "\n",
    "print(f\"\\n7. Додано атрибути name, parent  \\n\\n{merged_df.head()}\\n\")\n"
   ]
  },
  {
   "cell_type": "code",
   "execution_count": 12,
   "id": "6345c427",
   "metadata": {},
   "outputs": [
    {
     "name": "stdout",
     "output_type": "stream",
     "text": [
      "\n",
      "8. Обраховано об'єм утворених відходів для груп класів небезпеки \n",
      "\n",
      "   TIME_PERIOD                       name       OBS_VALUE\n",
      "0        2020  I-III. Небезпечні відходи       21,676.20\n",
      "1        2020  IV. Не небезпечні відходи   97,120,975.66\n",
      "2        2021  I-III. Небезпечні відходи      488,676.59\n",
      "3        2021  IV. Не небезпечні відходи  341,571,689.62\n",
      "4        2020     I-IV. Відходи в цілому   97,142,651.86\n",
      "5        2021     I-IV. Відходи в цілому  342,060,366.21\n"
     ]
    }
   ],
   "source": [
    "grouped_df = merged_df.groupby(['TIME_PERIOD', 'parent'])['OBS_VALUE'].sum().reset_index(name = 'OBS_VALUE')\n",
    "\n",
    "total_df = grouped_df.merge(class_df, how = 'left', left_on = 'parent', right_on = 'id')\n",
    "total_df = total_df.groupby(['TIME_PERIOD', 'parent_y'])['OBS_VALUE'].sum().reset_index(name = 'OBS_VALUE')\n",
    "total_df = total_df.rename(columns={'parent_y': 'parent'})\n",
    "result_df = pd.concat([grouped_df, total_df], ignore_index=True)\n",
    "\n",
    "result_df['OBS_VALUE'] = result_df['OBS_VALUE'].map(lambda x: f'{x:,.2f}')\n",
    "\n",
    "result_df = result_df.merge(class_df[['id', 'name']], how='left', left_on='parent', right_on='id')\n",
    "\n",
    "print(f\"\\n8. Обраховано об'єм утворених відходів для груп класів небезпеки \\n\\n {result_df[['TIME_PERIOD', 'name', 'OBS_VALUE']]}\")"
   ]
  }
 ],
 "metadata": {
  "kernelspec": {
   "display_name": "Python 3 (ipykernel)",
   "language": "python",
   "name": "python3"
  },
  "language_info": {
   "codemirror_mode": {
    "name": "ipython",
    "version": 3
   },
   "file_extension": ".py",
   "mimetype": "text/x-python",
   "name": "python",
   "nbconvert_exporter": "python",
   "pygments_lexer": "ipython3",
   "version": "3.11.4"
  }
 },
 "nbformat": 4,
 "nbformat_minor": 5
}
